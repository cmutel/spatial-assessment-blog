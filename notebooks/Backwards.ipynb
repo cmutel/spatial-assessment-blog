{
 "cells": [
  {
   "cell_type": "markdown",
   "id": "a217e52c-8e63-49e8-8d55-1c8f0f49a2b0",
   "metadata": {},
   "source": [
    "# Building the matrices"
   ]
  },
  {
   "cell_type": "code",
   "execution_count": 1,
   "id": "30c7612d-decf-4dcf-ac40-dc663d133f9f",
   "metadata": {},
   "outputs": [
    {
     "data": {
      "text/plain": [
       "array([ 5. , 12.5])"
      ]
     },
     "execution_count": 1,
     "metadata": {},
     "output_type": "execute_result"
    }
   ],
   "source": [
    "import numpy as np\n",
    "A = np.array([\n",
    "    (1,    0),\n",
    "    (-2.5, 1)\n",
    "])\n",
    "f = np.array((5, 0))\n",
    "np.linalg.solve(A, f)"
   ]
  },
  {
   "cell_type": "code",
   "execution_count": 2,
   "id": "f29c0bee-6465-419e-99a8-af539f3cd067",
   "metadata": {},
   "outputs": [
    {
     "data": {
      "text/plain": [
       "matrix([[ 1. ,  0. ],\n",
       "        [-2.5,  1. ]])"
      ]
     },
     "execution_count": 2,
     "metadata": {},
     "output_type": "execute_result"
    }
   ],
   "source": [
    "import numpy as np\n",
    "from scipy.sparse import csr_matrix\n",
    "\n",
    "data = np.array([1, -2.5, 1])\n",
    "row_ind = np.array([0, 1, 1])\n",
    "col_ind = np.array([0, 0, 1])\n",
    "shape = (2, 2)\n",
    "matrix = csr_matrix((data, (row_ind, col_ind)), shape=shape)\n",
    "matrix.todense()"
   ]
  },
  {
   "cell_type": "code",
   "execution_count": 3,
   "id": "8d137ff0-81d7-4551-b6cb-2e68a56abf24",
   "metadata": {},
   "outputs": [
    {
     "name": "stderr",
     "output_type": "stream",
     "text": [
      "/Users/cmutel/virtualenvs/bw25_stable/lib/python3.12/site-packages/bw2calc/__init__.py:50: UserWarning: \n",
      "It seems like you have an ARM architecture, but haven't installed scikit-umfpack:\n",
      "\n",
      "    https://pypi.org/project/scikit-umfpack/\n",
      "\n",
      "Installing it could give you much faster calculations.\n",
      "\n",
      "  warnings.warn(UMFPACK_WARNING)\n"
     ]
    },
    {
     "data": {
      "text/plain": [
       "array([ 5. , 12.5])"
      ]
     },
     "execution_count": 3,
     "metadata": {},
     "output_type": "execute_result"
    }
   ],
   "source": [
    "from bw2calc import spsolve\n",
    "spsolve(matrix, f)"
   ]
  },
  {
   "cell_type": "markdown",
   "id": "f4235d69-d8b6-4f1f-86aa-50b5065355f4",
   "metadata": {},
   "source": [
    "## Indexing in matrices"
   ]
  },
  {
   "cell_type": "code",
   "execution_count": 4,
   "id": "62439c27-9853-44bd-bfc5-941c2234ee27",
   "metadata": {},
   "outputs": [
    {
     "data": {
      "text/plain": [
       "array([1, 2])"
      ]
     },
     "execution_count": 4,
     "metadata": {},
     "output_type": "execute_result"
    }
   ],
   "source": [
    "from matrix_utils import ArrayMapper\n",
    "import numpy as np\n",
    "\n",
    "bike_making = 555_555_555  # Easier to read with `_`\n",
    "steel_tube_making = 666_666_666\n",
    "bike = 123_456_789\n",
    "steel_tubes = 111_111\n",
    "CO2 = 1\n",
    "\n",
    "am = ArrayMapper(array=np.array([bike_making, steel_tube_making, bike, steel_tubes, CO2]))\n",
    "am.map_array(np.array([steel_tubes, bike]))"
   ]
  },
  {
   "cell_type": "code",
   "execution_count": 5,
   "id": "90d8a613-dfa8-43ca-9990-79290f3edbf1",
   "metadata": {},
   "outputs": [
    {
     "data": {
      "text/plain": [
       "matrix([[-2.5,  1. ],\n",
       "        [ 1. ,  0. ]])"
      ]
     },
     "execution_count": 5,
     "metadata": {},
     "output_type": "execute_result"
    }
   ],
   "source": [
    "from matrix_utils import ArrayMapper\n",
    "from scipy.sparse import csr_matrix\n",
    "import numpy as np\n",
    "\n",
    "bike_making = 555_555_555\n",
    "steel_tube_making = 666_666_666\n",
    "bike = 123_456_789\n",
    "steel_tubes = 111_111\n",
    "CO2 = 1\n",
    "\n",
    "process_mapper = ArrayMapper(array=np.array([bike_making, steel_tube_making]))\n",
    "product_mapper = ArrayMapper(array=np.array([steel_tubes, bike]))\n",
    "biosphere_mapper = ArrayMapper(array=np.array([CO2]))\n",
    "\n",
    "data = np.array([1, -2.5, 1])\n",
    "row_ind = product_mapper.map_array(np.array([bike, steel_tubes, steel_tubes]))\n",
    "col_ind = process_mapper.map_array(np.array([bike_making, bike_making, steel_tube_making]))\n",
    "shape = (2, 2)\n",
    "technosphere_matrix = csr_matrix((data, (row_ind, col_ind)), shape=shape)\n",
    "technosphere_matrix.todense()"
   ]
  },
  {
   "cell_type": "markdown",
   "id": "eb41d727-a9d7-48e9-940c-010590698de5",
   "metadata": {},
   "source": [
    "## Standard LCA Matrices"
   ]
  },
  {
   "cell_type": "code",
   "execution_count": 6,
   "id": "c2f9f81c-6744-4de6-9193-fcd0503351b2",
   "metadata": {},
   "outputs": [
    {
     "data": {
      "text/plain": [
       "(matrix([[0.1, 2. ]]), matrix([[1000]]))"
      ]
     },
     "execution_count": 6,
     "metadata": {},
     "output_type": "execute_result"
    }
   ],
   "source": [
    "from matrix_utils import ArrayMapper\n",
    "from scipy.sparse import csr_matrix\n",
    "import numpy as np\n",
    "\n",
    "bike_making = 555_555_555\n",
    "steel_tube_making = 666_666_666\n",
    "CO2 = 1\n",
    "\n",
    "process_mapper = ArrayMapper(array=np.array([bike_making, steel_tube_making]))\n",
    "biosphere_mapper = ArrayMapper(array=np.array([CO2]))\n",
    "\n",
    "data = np.array([0.1, 2])\n",
    "row_ind = biosphere_mapper.map_array(np.array([CO2, CO2]))\n",
    "col_ind = process_mapper.map_array(np.array([bike_making, steel_tube_making]))\n",
    "shape = (1, 2)\n",
    "biosphere_matrix = csr_matrix((data, (row_ind, col_ind)), shape=shape)\n",
    "\n",
    "data = np.array([1000])\n",
    "only_ind = biosphere_mapper.map_array(np.array([CO2]))\n",
    "shape = (1, 1)\n",
    "characterization_matrix = csr_matrix((data, (only_ind, only_ind)), shape=shape)\n",
    "\n",
    "biosphere_matrix.todense(), characterization_matrix.todense()"
   ]
  },
  {
   "cell_type": "code",
   "execution_count": 7,
   "id": "29d56175-ae51-48f9-9c5e-bb916d403203",
   "metadata": {},
   "outputs": [
    {
     "data": {
      "text/plain": [
       "array([25500.])"
      ]
     },
     "execution_count": 7,
     "metadata": {},
     "output_type": "execute_result"
    }
   ],
   "source": [
    "bike_index = product_mapper.map_array(np.array([bike]))\n",
    "\n",
    "f = np.zeros(2)\n",
    "f[bike_index] = 5\n",
    "\n",
    "characterization_matrix @ biosphere_matrix @ spsolve(technosphere_matrix, f)"
   ]
  },
  {
   "cell_type": "markdown",
   "id": "6452a2b8-8b60-41c6-ad12-ae0482f57266",
   "metadata": {},
   "source": [
    "# Datapackages: Persisting Matrix Data"
   ]
  },
  {
   "cell_type": "code",
   "execution_count": 9,
   "id": "bcc290ff-aa36-43d3-9785-1275a5d4b054",
   "metadata": {},
   "outputs": [
    {
     "data": {
      "text/plain": [
       "[('row', numpy.int64), ('col', numpy.int64)]"
      ]
     },
     "execution_count": 9,
     "metadata": {},
     "output_type": "execute_result"
    }
   ],
   "source": [
    "import bw_processing as bwp\n",
    "bwp.INDICES_DTYPE"
   ]
  },
  {
   "cell_type": "code",
   "execution_count": 11,
   "id": "683ec573-b983-406c-a817-82b948cfe3d7",
   "metadata": {},
   "outputs": [],
   "source": [
    "import bw_processing as bwp\n",
    "\n",
    "technosphere_indices = np.array([\n",
    "    # row, column\n",
    "    (bike, bike_making),\n",
    "    (steel_tubes, bike_making),\n",
    "    (steel_tubes, steel_tube_making)\n",
    "], dtype=bwp.INDICES_DTYPE)\n",
    "technosphere_data = np.array([1, -2.5, 1])\n",
    "\n",
    "dp = bwp.create_datapackage()\n",
    "dp.add_persistent_vector(\n",
    "    matrix=\"technosphere_matrix\", \n",
    "    indices_array=technosphere_indices,\n",
    "    data_array=technosphere_data\n",
    ")\n",
    "\n",
    "biosphere_indices = np.array([\n",
    "    (CO2, bike_making),\n",
    "    (CO2, steel_tube_making),\n",
    "], dtype=bwp.INDICES_DTYPE)\n",
    "biosphere_data = np.array([0.1, 2])\n",
    "dp.add_persistent_vector(\n",
    "    matrix=\"biosphere_matrix\", \n",
    "    indices_array=biosphere_indices,\n",
    "    data_array=biosphere_data\n",
    ")\n",
    "\n",
    "characterization_indices = np.array([\n",
    "    (CO2, CO2),\n",
    "], dtype=bwp.INDICES_DTYPE)\n",
    "characterization_data = np.array([1000.])\n",
    "dp.add_persistent_vector(\n",
    "    matrix=\"characterization_matrix\", \n",
    "    indices_array=characterization_indices,\n",
    "    data_array=characterization_data\n",
    ")"
   ]
  },
  {
   "cell_type": "code",
   "execution_count": 13,
   "id": "3f93cec6-5fa7-419b-814c-eff53a227c72",
   "metadata": {},
   "outputs": [
    {
     "data": {
      "text/plain": [
       "25500.0"
      ]
     },
     "execution_count": 13,
     "metadata": {},
     "output_type": "execute_result"
    }
   ],
   "source": [
    "import bw2calc as bc\n",
    "\n",
    "lca = bc.LCA(demand={bike: 5}, data_objs=[dp])\n",
    "lca.lci()\n",
    "lca.lcia()\n",
    "lca.score"
   ]
  },
  {
   "cell_type": "code",
   "execution_count": 15,
   "id": "1bf8275c-d228-491d-8bfe-e8c5b22a89e2",
   "metadata": {},
   "outputs": [
    {
     "data": {
      "text/plain": [
       "matrix([[  500., 25000.]])"
      ]
     },
     "execution_count": 15,
     "metadata": {},
     "output_type": "execute_result"
    }
   ],
   "source": [
    "lca.characterized_inventory.todense()"
   ]
  },
  {
   "cell_type": "code",
   "execution_count": 16,
   "id": "71c6014e-63aa-4a8a-8a05-bfbe954ec534",
   "metadata": {},
   "outputs": [],
   "source": [
    "from dataclasses import dataclass\n",
    "\n",
    "@dataclass\n",
    "class Edge:\n",
    "    target: int\n",
    "    source: int\n",
    "    data: dict"
   ]
  },
  {
   "cell_type": "code",
   "execution_count": 17,
   "id": "fcf291aa-6f2d-4396-b508-0e19927e96f0",
   "metadata": {},
   "outputs": [],
   "source": [
    "from dataclasses import dataclass\n",
    "from enum import StrEnum\n",
    "\n",
    "@dataclass\n",
    "class Node:\n",
    "    id: int\n",
    "    type: StrEnum\n",
    "    collection: str\n",
    "    data: dict"
   ]
  },
  {
   "cell_type": "code",
   "execution_count": 18,
   "id": "6a116090-d6df-40f6-9924-77ac99c482df",
   "metadata": {},
   "outputs": [],
   "source": [
    "from dataclasses import dataclass\n",
    "from datetime import datetime\n",
    "from typing import Any\n",
    "\n",
    "@dataclass\n",
    "class Collection:\n",
    "    id: Any\n",
    "    modified: datetime\n",
    "    data: dict"
   ]
  },
  {
   "cell_type": "code",
   "execution_count": null,
   "id": "4ba8cc8f-1375-40ee-a8ce-187c83e88b35",
   "metadata": {},
   "outputs": [],
   "source": []
  }
 ],
 "metadata": {
  "kernelspec": {
   "display_name": "Python 3 (ipykernel)",
   "language": "python",
   "name": "python3"
  },
  "language_info": {
   "codemirror_mode": {
    "name": "ipython",
    "version": 3
   },
   "file_extension": ".py",
   "mimetype": "text/x-python",
   "name": "python",
   "nbconvert_exporter": "python",
   "pygments_lexer": "ipython3",
   "version": "3.12.4"
  }
 },
 "nbformat": 4,
 "nbformat_minor": 5
}
